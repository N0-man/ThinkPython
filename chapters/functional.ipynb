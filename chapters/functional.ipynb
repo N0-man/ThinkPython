{
 "cells": [
  {
   "cell_type": "code",
   "execution_count": 8,
   "metadata": {},
   "outputs": [
    {
     "name": "stdout",
     "output_type": "stream",
     "text": [
      "1\n",
      "2\n",
      "3\n"
     ]
    }
   ],
   "source": [
    "# Iterator\n",
    "\n",
    "L = [1, 2, 3]\n",
    "it = iter(L)\n",
    "\n",
    "for i in it:\n",
    "    print(i)"
   ]
  },
  {
   "cell_type": "code",
   "execution_count": 20,
   "metadata": {},
   "outputs": [
    {
     "name": "stdout",
     "output_type": "stream",
     "text": [
      "line 1\n",
      "line 2\n",
      "\n",
      "\n"
     ]
    }
   ],
   "source": [
    "# Generator expressoins\n",
    "\"\"\"\n",
    "( expression for expr in sequence1\n",
    "            if condition1\n",
    "            for expr2 in sequence2\n",
    "            if condition2\n",
    "            for expr3 in sequence3\n",
    "            ...\n",
    "            if condition3\n",
    "            for exprN in sequenceN\n",
    "            if conditionN )\n",
    "\"\"\"\n",
    "\n",
    "line_list = ['  line 1\\n', 'line 2  \\n', ' \\n', '']\n",
    "# Generator expression -- returns iterator\n",
    "stripped_iter = (line.strip() for line in line_list)\n",
    "\n",
    "# List comprehension -- returns list\n",
    "stripped_list = [line.strip() for line in line_list]\n",
    "\n",
    "for i in stripped_iter:\n",
    "    print(i)\n"
   ]
  },
  {
   "cell_type": "markdown",
   "metadata": {},
   "source": [
    "#### The functools module\n",
    "The functools module contains some higher-order functions. A higher-order function takes one or more functions as input and returns a new function. The most useful tool in this module is the functools.partial() function."
   ]
  },
  {
   "cell_type": "code",
   "execution_count": 22,
   "metadata": {},
   "outputs": [
    {
     "name": "stdout",
     "output_type": "stream",
     "text": [
      "server: Unable to open socket\n"
     ]
    }
   ],
   "source": [
    "import functools\n",
    "\n",
    "def log(message, subsystem):\n",
    "    \"\"\"Write the contents of 'message' to the specified subsystem.\"\"\"\n",
    "    print('%s: %s' % (subsystem, message))\n",
    "    ...\n",
    "\n",
    "server_log = functools.partial(log, subsystem='server')\n",
    "server_log('Unable to open socket')"
   ]
  },
  {
   "cell_type": "code",
   "execution_count": 36,
   "metadata": {},
   "outputs": [
    {
     "name": "stdout",
     "output_type": "stream",
     "text": [
      "XABBC\n",
      "6\n",
      "1\n",
      "10\n"
     ]
    }
   ],
   "source": [
    "\"\"\"\n",
    "Reduce Function\n",
    "    functools.reduce(func, iter, [initial_value])\n",
    "\"\"\"\n",
    "\n",
    "import operator, functools\n",
    "\n",
    "print(functools.reduce(operator.concat, ['A', 'BB', 'C'], 'X'))\n",
    "\n",
    "print(functools.reduce(operator.mul, [1, 2, 3], 1))\n",
    "print(functools.reduce(operator.mul, [], 1))\n",
    "\n",
    "print(functools.reduce(operator.add, [1, 2, 3, 4], 0))\n"
   ]
  },
  {
   "cell_type": "markdown",
   "metadata": {},
   "source": [
    "#### itertools.accumulated\n",
    "\n",
    "It performs the same calculation, but instead of returning only the final result, accumulate() returns an iterator that also yields each partial result:\n",
    "\n",
    "`itertools.accumulate(iterable, func=operator.add)`"
   ]
  },
  {
   "cell_type": "code",
   "execution_count": 42,
   "metadata": {},
   "outputs": [
    {
     "name": "stdout",
     "output_type": "stream",
     "text": [
      "1\n",
      "2\n",
      "6\n",
      "24\n",
      "120\n"
     ]
    }
   ],
   "source": [
    "\n",
    "import itertools\n",
    "\n",
    "accumulated = itertools.accumulate([1, 2, 3, 4, 5], operator.mul)\n",
    "\n",
    "for i in accumulated:\n",
    "    print(i)"
   ]
  },
  {
   "cell_type": "markdown",
   "metadata": {},
   "source": [
    "#### Small functions and the lambda expression\n",
    "When writing functional-style programs, you’ll often need little functions that act as predicates or that combine elements in some way."
   ]
  },
  {
   "cell_type": "code",
   "execution_count": 45,
   "metadata": {},
   "outputs": [
    {
     "name": "stdout",
     "output_type": "stream",
     "text": [
      "['line 1', 'line 2', '', '']\n"
     ]
    }
   ],
   "source": [
    "lines = ['  line 1\\n', 'line 2  \\n', ' \\n', '']\n",
    "\n",
    "stripped_lines = [line.strip() for line in lines]\n",
    "print(stripped_lines)"
   ]
  },
  {
   "cell_type": "code",
   "execution_count": 46,
   "metadata": {},
   "outputs": [],
   "source": [
    "# Standard def function\n",
    "def adder(x, y):\n",
    "    return x + y\n",
    "\n",
    "# Lambda function\n",
    "adder = lambda x, y: x+y\n",
    "\n",
    "# Standard def function\n",
    "def print_assign(name, value):\n",
    "    return name + '=' + str(value)\n",
    "\n",
    "# Lambda function\n",
    "print_assign = lambda name, value: name + '=' + str(value)\n"
   ]
  }
 ],
 "metadata": {
  "kernelspec": {
   "display_name": "Python 3",
   "language": "python",
   "name": "python3"
  },
  "language_info": {
   "codemirror_mode": {
    "name": "ipython",
    "version": 3
   },
   "file_extension": ".py",
   "mimetype": "text/x-python",
   "name": "python",
   "nbconvert_exporter": "python",
   "pygments_lexer": "ipython3",
   "version": "3.11.5"
  }
 },
 "nbformat": 4,
 "nbformat_minor": 2
}
